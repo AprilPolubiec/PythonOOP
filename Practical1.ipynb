{
 "cells": [
  {
   "cell_type": "markdown",
   "id": "8c1146ba",
   "metadata": {},
   "source": [
    "# Practical 1"
   ]
  },
  {
   "cell_type": "markdown",
   "id": "d7689b08",
   "metadata": {},
   "source": [
    "## Exercise 1: Create a Card"
   ]
  },
  {
   "cell_type": "code",
   "execution_count": 71,
   "id": "b163b577",
   "metadata": {},
   "outputs": [
    {
     "name": "stdout",
     "output_type": "stream",
     "text": [
      "Spades\n",
      "2\n",
      "2 of Spades\n",
      "2 of Spades\n"
     ]
    }
   ],
   "source": [
    "class Card:\n",
    "    suits = ['Spades', 'Hearts', 'Diamonds', 'Clubs']\n",
    "    values = [None, None, '2', '3', '4', '5', '6', '7', '8', '9', '10', 'Jack', 'Queen', 'King', 'Ace']\n",
    "\n",
    "    def __init__(self, suit_idx, value_idx):\n",
    "        # TODO: validate indexes\n",
    "        self.suit = self.suits[suit_idx]\n",
    "        self.value = self.values[value_idx]\n",
    "    \n",
    "    def __str__(self):\n",
    "        return '{} of {}'.format(self.value, self.suit)\n",
    "    \n",
    "    def reveal(self):\n",
    "        print(self)\n",
    "    \n",
    "    def __eq__(self, other):\n",
    "        return self.value == other.value\n",
    "    \n",
    "    def __lt__(self, other):\n",
    "        return self.value < other.value or (self.value == other.value and self.suit < other.suit)  \n",
    "    \n",
    "    def __le__(self, other):\n",
    "        return self.value <= other.value or (self.value == other.value and self.suit <= other.suit)\n",
    "    \n",
    "    def __ne__(self, other):\n",
    "        return self.value != other.value \n",
    "\n",
    "    def __gt__(self, other):\n",
    "        return self.value > other.value or (self.value == other.value and self.suit > other.suit)\n",
    "    \n",
    "    def __ge__(self, other):\n",
    "        return self.value >= other.value or (self.value == other.value and self.suit >= other.suit)\n",
    "    \n",
    "new_card = Card(0, 2)\n",
    "print(new_card.suits[0])\n",
    "print(new_card.values[2])\n",
    "print(new_card)\n",
    "new_card.reveal()"
   ]
  },
  {
   "cell_type": "markdown",
   "id": "01496554",
   "metadata": {},
   "source": [
    "## Exercise 2: Create a Deck"
   ]
  },
  {
   "cell_type": "code",
   "execution_count": 69,
   "id": "c7f1d8de",
   "metadata": {},
   "outputs": [],
   "source": [
    "import random\n",
    "\n",
    "class Deck:\n",
    "    cards_init = []\n",
    "    cards = []\n",
    "    def __init__(self):\n",
    "        for i in range(52):\n",
    "            suit = i % 4 # Get suit\n",
    "            value = (i % 13) + 2 # Get value\n",
    "            self.cards_init.append(Card(suit, value))\n",
    "        random.shuffle(self.cards_init)\n",
    "        self.cards = self.cards_init.copy()\n",
    "        \n",
    "    def __str__(self):\n",
    "        out_strings = [str(card) for card in self.cards]\n",
    "        return \"\\n\".join(out_strings)\n",
    "        \n",
    "    def shuffle(self):\n",
    "        random.shuffle(self.cards)\n",
    "        return self.cards\n",
    "\n",
    "    def draw(self):\n",
    "        if len(self.cards) > 0:\n",
    "            return self.cards.pop()\n",
    "        return\n",
    "    \n",
    "    def reveal(self):\n",
    "        print(str(self))\n",
    "    \n",
    "    def reset(self):\n",
    "        self.cards = self.cards_init.copy()\n",
    "    \n",
    "    def sort_by_value(self, value):    \n",
    "        self.cards = sorted(self.cards, key=lambda card: (card.value, card.suit))\n",
    "        return self.cards\n",
    "    \n",
    "    def sort_by_suit(self, suit):\n",
    "        self.cards = sorted(self.cards, key=lambda card: (card.suit, card.value))\n",
    "        return self.cards\n"
   ]
  },
  {
   "cell_type": "markdown",
   "id": "244dcfb5",
   "metadata": {},
   "source": [
    "## Exercise 3: Compare Cards"
   ]
  },
  {
   "cell_type": "code",
   "execution_count": 66,
   "id": "3e2b1d7e",
   "metadata": {},
   "outputs": [
    {
     "name": "stdout",
     "output_type": "stream",
     "text": [
      "True\n",
      "False\n",
      "True\n"
     ]
    }
   ],
   "source": [
    "# Try comparing two card objects\n",
    "\n",
    "# Spades, Hearts, Diamonds, Clubs\n",
    "\n",
    "# 10 of Spades == 10 of Hearts\n",
    "print(Card(0, 10) == Card(1, 10)) # True\n",
    "print(Card(0, 10) != Card(1, 10)) # False\n",
    "\n",
    "# 2 of Hearts is less than Ace of Diamonds\n",
    "print(Card(1, 2) < Card(2, 14)) # True\n",
    "\n"
   ]
  },
  {
   "cell_type": "markdown",
   "id": "9c686f5a",
   "metadata": {},
   "source": [
    "## Final: test all"
   ]
  },
  {
   "cell_type": "code",
   "execution_count": null,
   "id": "3ab33612",
   "metadata": {},
   "outputs": [],
   "source": [
    "new_deck = Deck()\n",
    "print(\"Initialized a new deck of {} cards\".format(len(new_deck)))\n",
    "print(\"Current cards:\", deck.reveal())\n",
    "\n",
    "print(\"Reshuffling cards\")\n",
    "new_deck = new_deck.shuffle()"
   ]
  }
 ],
 "metadata": {
  "kernelspec": {
   "display_name": "Python [conda env:python_oop] *",
   "language": "python",
   "name": "conda-env-python_oop-py"
  },
  "language_info": {
   "codemirror_mode": {
    "name": "ipython",
    "version": 3
   },
   "file_extension": ".py",
   "mimetype": "text/x-python",
   "name": "python",
   "nbconvert_exporter": "python",
   "pygments_lexer": "ipython3",
   "version": "3.11.5"
  }
 },
 "nbformat": 4,
 "nbformat_minor": 5
}
