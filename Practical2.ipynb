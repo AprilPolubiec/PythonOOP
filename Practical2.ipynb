{
 "cells": [
  {
   "cell_type": "markdown",
   "id": "754c9bc5",
   "metadata": {},
   "source": [
    "# Practical 3: Worksheet on Dictionaries and Classes\n",
    "\n",
    "## Exercise 1: Getting Familiar with Dictionaries"
   ]
  },
  {
   "cell_type": "code",
   "execution_count": 7,
   "id": "a3c3354f",
   "metadata": {},
   "outputs": [
    {
     "name": "stdout",
     "output_type": "stream",
     "text": [
      "apple 4\n",
      "banana 5\n",
      "orange 10\n",
      "kiwi 3\n",
      "grape 15\n"
     ]
    }
   ],
   "source": [
    "fruit_salad = {\n",
    "    \"apple\": {\n",
    "        \"brand_name\": \"Dole\",\n",
    "        \"origin_country\": \"United States\",\n",
    "        \"instances\": 4\n",
    "    },\n",
    "    \"banana\": {\n",
    "        \"brand_name\": \"Dole\",\n",
    "        \"origin_country\": \"Costa Rica\",\n",
    "        \"instances\": 5\n",
    "    },\n",
    "    \"orange\": {\n",
    "        \"brand_name\": \"Orange Co.\",\n",
    "        \"origin_country\": \"United States\",\n",
    "        \"instances\": 10\n",
    "    },\n",
    "    \"kiwi\": {\n",
    "        \"brand_name\": \"Tropical Fruit Co.\",\n",
    "        \"origin_country\": \"Japan\",\n",
    "        \"instances\": 3\n",
    "    }, \n",
    "    \"grape\": {\n",
    "        \"brand_name\": \"Welch's\",\n",
    "        \"origin_country\": \"Italy\",\n",
    "        \"instances\": 15\n",
    "    }\n",
    "}\n",
    "\n",
    "for key, value in fruit_salad.items():\n",
    "    print(key, value['instances'])"
   ]
  },
  {
   "cell_type": "code",
   "execution_count": 8,
   "id": "595065b8",
   "metadata": {},
   "outputs": [
    {
     "name": "stdout",
     "output_type": "stream",
     "text": [
      "{'apple': {'brand_name': 'Dole', 'origin_country': 'United States', 'instances': 4}, 'orange': {'brand_name': 'Orange Co.', 'origin_country': 'United States', 'instances': 10}, 'kiwi': {'brand_name': 'Tropical Fruit Co.', 'origin_country': 'Japan', 'instances': 3}, 'grape': {'brand_name': \"Welch's\", 'origin_country': 'Italy', 'instances': 15}}\n"
     ]
    }
   ],
   "source": [
    "del fruit_salad['banana']\n",
    "print(fruit_salad)"
   ]
  },
  {
   "cell_type": "code",
   "execution_count": 9,
   "id": "7227657c",
   "metadata": {},
   "outputs": [
    {
     "name": "stdout",
     "output_type": "stream",
     "text": [
      "{'broccoli': {'brand_name': 'Dole', 'origin_country': 'United States', 'instances': 6}, 'carrot': {'brand_name': 'Dole', 'origin_country': 'Costa Rica', 'instances': 1}, 'celery': {'brand_name': 'Dole', 'origin_country': 'United States', 'instances': 3}, 'eggplant': {'brand_name': 'Tropical Fruit Co.', 'origin_country': 'Japan', 'instances': 5}, 'lettuce': {'brand_name': \"Welch's\", 'origin_country': 'Italy', 'instances': 15}, 'apple': {'brand_name': 'Dole', 'origin_country': 'United States', 'instances': 4}, 'orange': {'brand_name': 'Orange Co.', 'origin_country': 'United States', 'instances': 10}, 'kiwi': {'brand_name': 'Tropical Fruit Co.', 'origin_country': 'Japan', 'instances': 3}, 'grape': {'brand_name': \"Welch's\", 'origin_country': 'Italy', 'instances': 15}}\n"
     ]
    }
   ],
   "source": [
    "veggie_salad = {\n",
    "    \"broccoli\": {\n",
    "        \"brand_name\": \"Dole\",\n",
    "        \"origin_country\": \"United States\",\n",
    "        \"instances\": 6\n",
    "    },\n",
    "    \"carrot\": {\n",
    "        \"brand_name\": \"Dole\",\n",
    "        \"origin_country\": \"Costa Rica\",\n",
    "        \"instances\": 1\n",
    "    },\n",
    "    \"celery\": {\n",
    "        \"brand_name\": \"Dole\",\n",
    "        \"origin_country\": \"United States\",\n",
    "        \"instances\": 3\n",
    "    },\n",
    "    \"eggplant\": {\n",
    "        \"brand_name\": \"Tropical Fruit Co.\",\n",
    "        \"origin_country\": \"Japan\",\n",
    "        \"instances\": 5\n",
    "    }, \n",
    "    \"lettuce\": {\n",
    "        \"brand_name\": \"Welch's\",\n",
    "        \"origin_country\": \"Italy\",\n",
    "        \"instances\": 15\n",
    "    }\n",
    "}\n",
    "\n",
    "veggie_salad.update(fruit_salad)\n",
    "print(veggie_salad)"
   ]
  },
  {
   "cell_type": "markdown",
   "id": "3acaeaa0",
   "metadata": {},
   "source": [
    "## Exercise 2: Dictionary in Classes"
   ]
  },
  {
   "cell_type": "code",
   "execution_count": 28,
   "id": "a7eff679",
   "metadata": {},
   "outputs": [],
   "source": [
    "import string\n",
    "class TextProcessor:\n",
    "    def __init__(self, text):\n",
    "        self.text = text\n",
    "        self.transform_values = {}\n",
    "    \n",
    "    def show_text(self):\n",
    "        print(self.text)\n",
    "    \n",
    "    def add_lookups(self, in_dict):\n",
    "        self.transform_values.update(in_dict)\n",
    "    \n",
    "    def transform(self):\n",
    "        tokens = self.text.split()\n",
    "        new_words = []\n",
    "        for word in tokens:\n",
    "            transform_value = self.transform_values.get(word)\n",
    "            if transform_value != None:\n",
    "                word = transform_value\n",
    "            new_words.append(word)\n",
    "        self.text = ' '.join(new_words)\n"
   ]
  },
  {
   "cell_type": "code",
   "execution_count": 30,
   "id": "7ce6bbc5",
   "metadata": {},
   "outputs": [
    {
     "name": "stdout",
     "output_type": "stream",
     "text": [
      "Harry took the wand. He raised the gun above his head, brought it swishing down through the dusty air and a stream of red and gold sparks shot from the end like a firework, throwing dancing spots of light on the walls. ’I remember every gun I’ve ever sold, Mr. Potter. Every single wand. It is very curious indeed that you should be destined for this gun when its brother- why, its brother gave you that scar.’ Harry swallowed. ’Yes, thirteen-and-a- half inches. Yew. Curious indeed how these things happen. The gun chooses the wizard, remember.... I think we must expect great things from you, Mr. Potter...\n"
     ]
    }
   ],
   "source": [
    "original_text = \"Harry took the wand. He raised the wand above his head, brought it swishing down through the dusty air and a stream of red and gold sparks shot from the end like a firework, throwing dancing spots of light on the walls. ’I remember every wand I’ve ever sold, Mr. Potter. Every single wand. It is very curious indeed that you should be destined for this wand when its brother- why, its brother gave you that scar.’ Harry swallowed. ’Yes, thirteen-and-a- half inches. Yew. Curious indeed how these things happen. The wand chooses the wizard, remember.... I think we must expect great things from you, Mr. Potter...\"\n",
    "processor = TextProcessor(original_text)\n",
    "processor.add_lookups({\"wand\": \"gun\"})\n",
    "processor.transform()\n",
    "processor.show_text()"
   ]
  },
  {
   "cell_type": "markdown",
   "id": "9a28c086",
   "metadata": {},
   "source": [
    "## Exercise 3: Improving the Card Class"
   ]
  },
  {
   "cell_type": "code",
   "execution_count": 31,
   "id": "781156c5",
   "metadata": {},
   "outputs": [],
   "source": [
    "class Card:\n",
    "    suits = ('Spades', 'Hearts', 'Diamonds', 'Clubs')\n",
    "    values = (None, None, '2', '3', '4', '5', '6', '7', '8', '9', '10', 'Jack', 'Queen', 'King', 'Ace')\n",
    "\n",
    "    def __init__(self, suit_idx, value_idx):\n",
    "        # TODO: validate indexes\n",
    "        self.suit = self.suits[suit_idx]\n",
    "        self.value = self.values[value_idx]\n",
    "    \n",
    "    def __str__(self):\n",
    "        return '{} of {}'.format(self.value, self.suit)\n",
    "\n",
    "    def __repr__(self):\n",
    "        return str(self)\n",
    "    \n",
    "    def __eq__(self, other):\n",
    "        return self.value == other.value\n",
    "    \n",
    "    def __lt__(self, other):\n",
    "        return self.value < other.value or (self.value == other.value and self.suit < other.suit)  \n",
    "    \n",
    "    def __le__(self, other):\n",
    "        return self.value <= other.value or (self.value == other.value and self.suit <= other.suit)\n",
    "    \n",
    "    def __ne__(self, other):\n",
    "        return self.value != other.value \n",
    "\n",
    "    def __gt__(self, other):\n",
    "        return self.value > other.value or (self.value == other.value and self.suit > other.suit)\n",
    "    \n",
    "    def __ge__(self, other):\n",
    "        return self.value >= other.value or (self.value == other.value and self.suit >= other.suit)\n",
    "    "
   ]
  },
  {
   "cell_type": "markdown",
   "id": "4e4c6820",
   "metadata": {},
   "source": [
    "## Exercise 4: Improving the Deck Class"
   ]
  },
  {
   "cell_type": "code",
   "execution_count": 32,
   "id": "53e8c73d",
   "metadata": {},
   "outputs": [],
   "source": [
    "import random\n",
    "\n",
    "class Deck:\n",
    "    cards_init = []\n",
    "    cards = []\n",
    "    def __init__(self):\n",
    "        for i in range(52):\n",
    "            suit = i % 4 # Get suit\n",
    "            value = (i % 13) + 2 # Get value\n",
    "            self.cards_init.append(Card(suit, value))\n",
    "        random.shuffle(self.cards_init)\n",
    "        self.cards = self.cards_init.copy()\n",
    "        \n",
    "    def __str__(self):\n",
    "        out_strings = [str(card) for card in self.cards]\n",
    "        return \"\\n\".join(out_strings)\n",
    "        \n",
    "    def shuffle(self):\n",
    "        random.shuffle(self.cards)\n",
    "        return self.cards\n",
    "\n",
    "    def draw(self):\n",
    "        if len(self.cards) > 0:\n",
    "            return self.cards.pop()\n",
    "        return\n",
    "    \n",
    "    def reveal(self):\n",
    "        print(str(self))\n",
    "    \n",
    "    def reset(self):\n",
    "        self.cards = self.cards_init.copy()\n",
    "    \n",
    "    def sort_by_value(self, value):    \n",
    "        self.cards = sorted(self.cards, key=lambda card: (card.value, card.suit))\n",
    "        return self.cards\n",
    "    \n",
    "    def sort_by_suit(self, suit):\n",
    "        self.cards = sorted(self.cards, key=lambda card: (card.suit, card.value))\n",
    "        return self.cards"
   ]
  }
 ],
 "metadata": {
  "kernelspec": {
   "display_name": "python_oop",
   "language": "python",
   "name": "python3"
  },
  "language_info": {
   "codemirror_mode": {
    "name": "ipython",
    "version": 3
   },
   "file_extension": ".py",
   "mimetype": "text/x-python",
   "name": "python",
   "nbconvert_exporter": "python",
   "pygments_lexer": "ipython3",
   "version": "3.11.5"
  }
 },
 "nbformat": 4,
 "nbformat_minor": 5
}
